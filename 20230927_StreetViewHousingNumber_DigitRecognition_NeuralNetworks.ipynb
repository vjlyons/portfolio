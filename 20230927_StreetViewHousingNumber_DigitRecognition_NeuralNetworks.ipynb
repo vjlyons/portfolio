{
  "cells": [
    {
      "cell_type": "markdown",
      "metadata": {
        "id": "Q91KqmCRu64D"
      },
      "source": [
        "# **Street View Housing Number Digit Recognition: Prediction Models via Deep Learning Algorithms**\n"
      ]
    },
    {
      "cell_type": "markdown",
      "source": [
        "##**Problem Definition**"
      ],
      "metadata": {
        "id": "Dw6lPYIy9Sys"
      }
    },
    {
      "cell_type": "markdown",
      "source": [
        "### **The Context - Why Digit Recognition?**\n",
        "\n",
        "One of the most interesting tasks in deep learning is to recognize objects in natural scenes. The ability to process visual information using machine learning algorithms (**computer vision**) can be very useful as demonstrated in various applications.\n",
        "\n",
        "The Street View Housing Number (SVHN) dataset contains over **600,000 labeled digits cropped from street-level photos**. It is one of the most popular image recognition datasets. It has been used in neural networks created by Google to improve the map quality by automatically transcribing the address numbers from a patch of pixels. The transcribed number with a known street address helps pinpoint the location of the building it represents.\n",
        "\n",
        "<br>\n",
        "\n",
        "### **The Objective - Artificial vs. Convolutional Neural Networks**\n",
        "\n",
        "This project is designed to **predict the number** depicted inside the image by using **Artificial (Fully Connected Feed Forward)** Neural Networks and **Convolutional** Neural Networks. Various models of each type are evaluated, with a final model chosen based upon best performance.\n",
        "\n",
        "<br>\n",
        "\n",
        "###**Key Questions**\n",
        "* Which type of neural network performs better, Artificial Neural Networks (ANNs) or Convolutional Neural Networks (CNNs)?"
      ],
      "metadata": {
        "id": "78Kaik3h9Wcr"
      }
    },
    {
      "cell_type": "markdown",
      "source": [
        "##**Key Findings and Business Recommendation**\n",
        "\n",
        "###**Key Findings**\n",
        "* ANN Models returned **lower accuracy metrics**, but were observed to be **less prone to overfitting** the training data than CNN Models.\n",
        "* ANN variations acheived an overall F1-score of **76%**, whereas CNNs acheived an overall F1-score of **91%**.  Despite the issue of overfitting, CNNs are significantly more accurate in predicting SVHNs from the image dataset.\n",
        "* In both ANN and CNN models, the numbers **3 and 5** were the **most commonly mispredicted numbers**.\n",
        "\n",
        "<br>\n",
        "\n",
        "###**Business Recommendations**\n",
        "* Comparing the performance of both ANN and CNN models, **CNN Model 2 is the recommended model** for SVHN prediction due to the higher accuracy and sensitivity metrics obtained from the test data.\n",
        "* Further parameter optimization may be conducted to determine if the model can be improved to **increase the precision and recall** of numbers 3 and 5 (e.g. change filter size) if business needs require it."
      ],
      "metadata": {
        "id": "ukxG80-GBhi6"
      }
    },
    {
      "cell_type": "markdown",
      "source": [
        "##**Data Set Description**\n",
        "\n",
        "A subset of the original dataset (SHVN dataset) is used to save on computation time.  The subset was provided as a .h5 file for the project.  The basic preprocessing steps have been applied to the dataset (checking for null values, duplicates)"
      ],
      "metadata": {
        "id": "-aRH8WKMCraI"
      }
    },
    {
      "cell_type": "markdown",
      "metadata": {
        "id": "8z2Z7-OAs8QG"
      },
      "source": [
        "### **Mount Google Drive and Import Libraries**"
      ]
    },
    {
      "cell_type": "code",
      "execution_count": null,
      "metadata": {
        "id": "03lDyQUuef7z",
        "colab": {
          "base_uri": "https://localhost:8080/"
        },
        "outputId": "99121868-3d43-4875-851c-a7aea51cf423"
      },
      "outputs": [
        {
          "output_type": "stream",
          "name": "stdout",
          "text": [
            "Mounted at /content/drive\n"
          ]
        }
      ],
      "source": [
        "from google.colab import drive    # code to import google drive from google.colab\n",
        "drive.mount('/content/drive')     # run 'drive.mount' and provide specific file location as necessary"
      ]
    },
    {
      "cell_type": "code",
      "execution_count": null,
      "metadata": {
        "id": "-dVzeuF3eQx1"
      },
      "outputs": [],
      "source": [
        "import numpy as np    # allows use of arrays and other mathematical functions required in NN models\n",
        "import pandas as pd   # allows use of data frames and manipulation of data needed for data preprocessing (e.g. drop null values, convert data types, etc)\n",
        "\n",
        "import matplotlib.pyplot as plt   # needed for data visualization during exploratory data analysis\n",
        "import seaborn as sns             # needed for more sophisticated data visualization (e.g. histograms/boxplots)\n",
        "\n",
        "from sklearn.model_selection import train_test_split    # required to split data into train and test sets for model development and testing\n",
        "from sklearn.preprocessing import MinMaxScaler          # required in data preprocessing to bring data values within the same scale (0 - 1)\n",
        "\n",
        "import tensorflow as tf     # package used to train large-scale neural networks\n",
        "from tensorflow.keras.models import Sequential    # import Sequential model from tf.keras; used for feed forward NNs\n",
        "from tensorflow.keras.layers import Dense, Dropout, Activation, BatchNormalization    # import layers for NN model (specific comments in further code)\n",
        "from tensorflow.keras.losses import categorical_crossentropy    # import loss function to measure error in NN model\n",
        "from tensorflow.keras.optimizers import Adam    # import optimization algorithm used to train the NN model\n",
        "from tensorflow.keras.utils import to_categorical   # import module that converts categorical data into one-hot encoded vectors\n"
      ]
    },
    {
      "cell_type": "code",
      "execution_count": null,
      "metadata": {
        "id": "W5as47YxyJVk",
        "colab": {
          "base_uri": "https://localhost:8080/"
        },
        "outputId": "0763c00a-d06b-43d8-90aa-847bff3f9802"
      },
      "outputs": [
        {
          "output_type": "stream",
          "name": "stdout",
          "text": [
            "2.13.0\n"
          ]
        }
      ],
      "source": [
        "# check version of tensorflow, update as needed\n",
        "print(tf.__version__)   # prints version of loaded tf package"
      ]
    },
    {
      "cell_type": "markdown",
      "source": [
        "###**Data Pre-processing**"
      ],
      "metadata": {
        "id": "-neANNqbFxwE"
      }
    },
    {
      "cell_type": "markdown",
      "metadata": {
        "id": "8lsux2ZwyTTR"
      },
      "source": [
        "#### **Load and Split dataset (Train/Test)**"
      ]
    },
    {
      "cell_type": "code",
      "execution_count": null,
      "metadata": {
        "id": "BApX9qgNsqV0",
        "scrolled": true
      },
      "outputs": [],
      "source": [
        "import h5py   # import library that can open HDF5 ('.h5') files\n",
        "\n",
        "h5f = h5py.File('/content/drive/MyDrive/ADSP_Week8_DeepLearningProject/SVHN_single_grey1.h5', 'r')    # open raw data file as 'read only'"
      ]
    },
    {
      "cell_type": "code",
      "source": [
        "# understand what datasets are within the .h5 file by listing names ('keys') of the data sets:\n",
        "keys = list(h5f.keys())\n",
        "print(keys)"
      ],
      "metadata": {
        "colab": {
          "base_uri": "https://localhost:8080/"
        },
        "id": "lOQU5HRd5Rod",
        "outputId": "e9316fc2-518c-4c99-fa4d-da854c16f2a9"
      },
      "execution_count": null,
      "outputs": [
        {
          "output_type": "stream",
          "name": "stdout",
          "text": [
            "['X_test', 'X_train', 'X_val', 'y_test', 'y_train', 'y_val']\n"
          ]
        }
      ]
    },
    {
      "cell_type": "code",
      "source": [
        "# access train and test datasets from the .h5 file and create new Py variables for future use\n",
        "X_train = h5f['X_train'][:]     # create new variable 'X_train' by slicing all 'X_train' dataset from the raw data .h5 file\n",
        "y_train = h5f['y_train'][:]     # repeat code for 'y_train' variable\n",
        "\n",
        "X_test = h5f['X_test'][:]       # repeat code for 'X_test' variable\n",
        "y_test = h5f['y_test'][:]       # repeat code for 'y_test' variable\n",
        "\n",
        "# note that 'X' is capitalized and 'y' is not, code will run error if syntax is incorrect"
      ],
      "metadata": {
        "id": "GSkVR0XQ3a0o"
      },
      "execution_count": null,
      "outputs": []
    },
    {
      "cell_type": "code",
      "source": [
        "# confirm new variables are multidimensional arrays\n",
        "print(type(X_train))\n",
        "print(type(y_train))\n",
        "print(type(X_test))\n",
        "print(type(y_test))"
      ],
      "metadata": {
        "colab": {
          "base_uri": "https://localhost:8080/"
        },
        "id": "SBGEfHvr6YUl",
        "outputId": "8c6c874e-c95f-44ca-a57e-6782f0b3635f"
      },
      "execution_count": null,
      "outputs": [
        {
          "output_type": "stream",
          "name": "stdout",
          "text": [
            "<class 'numpy.ndarray'>\n",
            "<class 'numpy.ndarray'>\n",
            "<class 'numpy.ndarray'>\n",
            "<class 'numpy.ndarray'>\n"
          ]
        }
      ]
    },
    {
      "cell_type": "code",
      "source": [
        "# close .h5 file\n",
        "h5f.close()"
      ],
      "metadata": {
        "id": "GqzyprmA8C3q"
      },
      "execution_count": null,
      "outputs": []
    },
    {
      "cell_type": "code",
      "execution_count": null,
      "metadata": {
        "id": "y3lwKpOefkpA",
        "colab": {
          "base_uri": "https://localhost:8080/"
        },
        "outputId": "eece0142-2b34-4bbc-bab4-29dd95adae2f"
      },
      "outputs": [
        {
          "output_type": "execute_result",
          "data": {
            "text/plain": [
              "(42000, 18000)"
            ]
          },
          "metadata": {},
          "execution_count": 139
        }
      ],
      "source": [
        "# confirm appropriate split ratio for train/test data sets\n",
        "\n",
        "# use 'len()' function to count total number of values or 'images' in the dataset:\n",
        "len(X_train), len(X_test)"
      ]
    },
    {
      "cell_type": "markdown",
      "metadata": {
        "id": "akTUOfLlgwoM"
      },
      "source": [
        "###**Observations:**\n",
        "> * There are 42,000 images in the training dataset, and 18,000 images in the testing dataset.  This **70/30 split** between training and testing data is appropriate for developing and testing the Neural Network models."
      ]
    },
    {
      "cell_type": "markdown",
      "metadata": {
        "id": "kxODV6HKykuc"
      },
      "source": [
        "#### **Visualizing dataset**"
      ]
    },
    {
      "cell_type": "code",
      "execution_count": null,
      "metadata": {
        "id": "Bvsc8ytHsqWD",
        "colab": {
          "base_uri": "https://localhost:8080/",
          "height": 102
        },
        "outputId": "ed8f2872-495d-4d70-d77d-108658279641"
      },
      "outputs": [
        {
          "output_type": "display_data",
          "data": {
            "text/plain": [
              "<Figure size 1000x100 with 10 Axes>"
            ],
            "image/png": "[encoded data removed]"
          },
          "metadata": {}
        }
      ],
      "source": [
        "# create parent figure to visualize images from the 'X_train' dataset:\n",
        "plt.figure(figsize = (10, 1))   # creates figure with 10' width and 1' height\n",
        "\n",
        "# create for loop to open the first 10 images individually and add them to the parent figure:\n",
        "for i in range(10):             # 'range(10)' specifies elements 0-9 in the 'X_train' dataset\n",
        "    plt.subplot(1, 10, i+1)     # creates subplot with 1 row and 10 columns, indexed from 1-10 (i+1)\n",
        "    plt.imshow(X_train[i],      # use 'plt.imshow()' to show images sliced at element 'i' in the 'X_train' dataset\n",
        "               cmap = 'gray')   # format images in grayscale\n",
        "    plt.axis('off')     # turn off axis label\n",
        "\n",
        "plt.show()    # code to show the final image in notebook"
      ]
    },
    {
      "cell_type": "code",
      "source": [
        "# print labels for 'X_train' dataset images via 'y_train' dataset:\n",
        "print('Labels for first 10 images in X_train dataset:', (y_train[0:10]))"
      ],
      "metadata": {
        "colab": {
          "base_uri": "https://localhost:8080/"
        },
        "id": "iwXEblFxAXL0",
        "outputId": "98f5b96a-08c2-4dcf-8f74-0d9085d3f6f1"
      },
      "execution_count": null,
      "outputs": [
        {
          "output_type": "stream",
          "name": "stdout",
          "text": [
            "Labels for first 10 images in X_train dataset: [2 6 7 4 4 0 3 0 7 3]\n"
          ]
        }
      ]
    },
    {
      "cell_type": "markdown",
      "metadata": {
        "id": "kzoyeXHOy80N"
      },
      "source": [
        "#### **Determine shape and pixel values for image array(s)**"
      ]
    },
    {
      "cell_type": "code",
      "execution_count": null,
      "metadata": {
        "id": "NqndzQXng9rL",
        "colab": {
          "base_uri": "https://localhost:8080/"
        },
        "outputId": "c3db77ed-4fe9-463e-f66d-b494ac91f91a"
      },
      "outputs": [
        {
          "output_type": "stream",
          "name": "stdout",
          "text": [
            "The shape of the first image in the X_train dataset is: (32, 32)\n"
          ]
        }
      ],
      "source": [
        "# slice first image from the 'X_train' dataset and determing shape:\n",
        "X_train[0].shape\n",
        "\n",
        "# create print statement:\n",
        "print('The shape of the first image in the X_train dataset is:', X_train[0].shape)"
      ]
    },
    {
      "cell_type": "code",
      "source": [
        "# call the array of pixels for the first image:\n",
        "X_train[0]\n",
        "\n",
        "# create print statement:\n",
        "print('The array of pixel values for the first image is:', X_train[0])"
      ],
      "metadata": {
        "colab": {
          "base_uri": "https://localhost:8080/"
        },
        "id": "9zf7sqIEB0KO",
        "outputId": "8de1397f-753b-4889-a096-c9ab11ed3627"
      },
      "execution_count": null,
      "outputs": [
        {
          "output_type": "stream",
          "name": "stdout",
          "text": [
            "The array of pixel values for the first image is: [[ 33.0704  30.2601  26.852  ...  71.4471  58.2204  42.9939]\n",
            " [ 25.2283  25.5533  29.9765 ... 113.0209 103.3639  84.2949]\n",
            " [ 26.2775  22.6137  40.4763 ... 113.3028 121.775  115.4228]\n",
            " ...\n",
            " [ 28.5502  36.212   45.0801 ...  24.1359  25.0927  26.0603]\n",
            " [ 38.4352  26.4733  23.2717 ...  28.1094  29.4683  30.0661]\n",
            " [ 50.2984  26.0773  24.0389 ...  49.6682  50.853   53.0377]]\n"
          ]
        }
      ]
    },
    {
      "cell_type": "code",
      "source": [
        "# reshape dataset to match input requirements in ANN model architecture defined below:\n",
        "X_train = X_train.reshape(X_train.shape[0], 1024)\n",
        "X_test = X_test.reshape(X_test.shape[0], 1024)"
      ],
      "metadata": {
        "id": "AHSU8kuzMrg6"
      },
      "execution_count": null,
      "outputs": []
    },
    {
      "cell_type": "markdown",
      "metadata": {
        "id": "f4CQkKtQ0XII"
      },
      "source": [
        "#### **Normalize pixel values for train/test data**"
      ]
    },
    {
      "cell_type": "code",
      "execution_count": null,
      "metadata": {
        "id": "q_yUUTp_mUzB"
      },
      "outputs": [],
      "source": [
        "# replace variable and normalize train and test data by dividing arrays by 225\n",
        "X_train = X_train / 255\n",
        "X_test = X_test / 255"
      ]
    },
    {
      "cell_type": "code",
      "execution_count": null,
      "metadata": {
        "id": "t7FSqOpamWkH",
        "colab": {
          "base_uri": "https://localhost:8080/"
        },
        "outputId": "d85e69d2-30d5-46a8-b0ff-db04d5b59799"
      },
      "outputs": [
        {
          "output_type": "stream",
          "name": "stdout",
          "text": [
            "The shape of the Training data is: (42000, 1024) (42000,)\n",
            "The shape of the Testing data is: (18000, 1024) (18000,)\n"
          ]
        }
      ],
      "source": [
        "# confirm reshape for input arrays\n",
        "print('The shape of the Training data is:', X_train.shape, y_train.shape)\n",
        "print('The shape of the Testing data is:', X_test.shape, y_test.shape)"
      ]
    },
    {
      "cell_type": "markdown",
      "metadata": {
        "id": "0uLxXBpz81vk"
      },
      "source": [
        "#### **One-hot encode categorical labels**"
      ]
    },
    {
      "cell_type": "code",
      "execution_count": null,
      "metadata": {
        "id": "zL0lYER4sqWw"
      },
      "outputs": [],
      "source": [
        "# replace 'y_train'/'y_test' variable with one-hot encoded categorical output\n",
        "y_train = to_categorical(y_train)\n",
        "y_test = to_categorical(y_test)"
      ]
    },
    {
      "cell_type": "code",
      "source": [
        "# confirm one-hot encoding:\n",
        "print(y_train[0])\n",
        "print(y_train[1])"
      ],
      "metadata": {
        "colab": {
          "base_uri": "https://localhost:8080/"
        },
        "id": "TS3IqB9sHd6L",
        "outputId": "dde16b77-7b17-4d36-e498-b70eae32ff0e"
      },
      "execution_count": null,
      "outputs": [
        {
          "output_type": "stream",
          "name": "stdout",
          "text": [
            "[0. 0. 1. 0. 0. 0. 0. 0. 0. 0.]\n",
            "[0. 0. 0. 0. 0. 0. 1. 0. 0. 0.]\n"
          ]
        }
      ]
    },
    {
      "cell_type": "code",
      "source": [
        "# check shape of 'y_train' array, now has 10 new columns in array from one-hot encoding\n",
        "y_train.shape"
      ],
      "metadata": {
        "colab": {
          "base_uri": "https://localhost:8080/"
        },
        "id": "HoIWglBLHkmT",
        "outputId": "ab058521-6667-4dc8-f1ab-88a0a77f8b88"
      },
      "execution_count": null,
      "outputs": [
        {
          "output_type": "execute_result",
          "data": {
            "text/plain": [
              "(42000, 10)"
            ]
          },
          "metadata": {},
          "execution_count": 151
        }
      ]
    },
    {
      "cell_type": "markdown",
      "metadata": {
        "id": "ViqPOTquCF76"
      },
      "source": [
        "###**Observations:**\n",
        "> * The **shape of the first image** in the 'X_train' dataset is **32 x 32**.\n",
        "* The values in the first array of pixels in the 'X_train' dataset range from 0-255.\n",
        "* The values for pixels in each image of the 'X_train' and 'X_test' datasets were normalized to a **range of 0-1** by dividing the datasets by 255 (max pixel value).\n",
        "* Performed **one-hot encoding** on the 'y_train' and 'y_test' datasets added **10 new columns** to the shape of the datasets, which represent a vector associated with **categorical** value.\n"
      ]
    },
    {
      "cell_type": "markdown",
      "metadata": {
        "id": "yH-gVrzuByNA"
      },
      "source": [
        "## **Artificial Neural Network(s)**\n"
      ]
    },
    {
      "cell_type": "markdown",
      "source": [
        "####**Set seed number**"
      ],
      "metadata": {
        "id": "j2y6NeEXIo-F"
      }
    },
    {
      "cell_type": "code",
      "execution_count": null,
      "metadata": {
        "id": "BcKRwrGn0XIL"
      },
      "outputs": [],
      "source": [
        "tf.random.set_seed(12)  # define seed number for tf functions"
      ]
    },
    {
      "cell_type": "markdown",
      "source": [
        "###**ANN Model 1 - Sequential class, 3 layers**"
      ],
      "metadata": {
        "id": "niBQG8ICI8j7"
      }
    },
    {
      "cell_type": "markdown",
      "metadata": {
        "id": "UJDUoaEj1d6e"
      },
      "source": [
        "#### **Model Architecture**\n",
        "Define ANN model function with **Sequential class** and the following architecture:\n",
        " - First hidden layer with **64 nodes** and the **relu activation** and the **input shape = (1024, )**\n",
        " - Second hidden layer with **32 nodes** and the **relu activation**\n",
        " - Output layer with **softmax activation** and **10 nodes** (number of classifications, 0-9)\n",
        "\n",
        " <br>\n",
        "\n",
        "Compile the model using:\n",
        "* loss function as **categorical_crossentropy**\n",
        "* optimizer equal to **Adam(learning_rate = 0.001)**\n",
        "* metric equal to **'accuracy'**.\n",
        "\n",
        "<br>\n",
        "\n",
        "Fit model on the training data set using:\n",
        "* validation split of **0.2**\n",
        "* batch size of **128**\n",
        "* verbose = **1**\n",
        "* epochs = **20**"
      ]
    },
    {
      "cell_type": "markdown",
      "metadata": {
        "id": "A48z6ucF0XIP"
      },
      "source": [
        "#### **Build and train ANN Model 1**"
      ]
    },
    {
      "cell_type": "code",
      "execution_count": null,
      "metadata": {
        "id": "Cmi81Gr5sqW-"
      },
      "outputs": [],
      "source": [
        "# Step 1: define model function with given architecture above\n",
        "def nn_model_1():     # create 'nn_model_1' function variable\n",
        "    model = Sequential()    # create 'model' variable defined by Sequential class in tf.keras.models package\n",
        "\n",
        "    # build model layers:\n",
        "    model.add(Dense(64,                       # add input layer using Dense layer type with 64 output nodes\n",
        "                    activation = 'relu',      # use ReLU type activation function (output 0-infinity)\n",
        "                    input_shape = (1024,)))   # define number of input nodes from dataset as 1024\n",
        "\n",
        "    model.add(Dense(32,                       # add second layer of Dense type with 32 output nodes\n",
        "                    activation = 'relu'))     # use ReLU activation function\n",
        "\n",
        "    model.add(Dense(10,                       # add output layer of Dense type with 10 output nodes (10 different classifications of 0-9)\n",
        "                    activation = 'softmax'))  # use Softmax output to convert output vector into probability distribution\n",
        "\n",
        "    # compile model:\n",
        "\n",
        "    model.compile(optimizer = tf.keras.optimizers.Adam(learning_rate = 0.001),    # define Adam optimizer with learning_rate = 0.001\n",
        "                  loss = 'categorical_crossentropy',                                # define loss function as 'categorical crossentropy'\n",
        "                  metrics = ['accuracy'])                                           # define list of metrics to include 'accuracy'\n",
        "    return model    # returns 'model' variable"
      ]
    },
    {
      "cell_type": "code",
      "source": [
        "# Step 2: Build the model using the previously defined function\n",
        "model_1 = nn_model_1()"
      ],
      "metadata": {
        "id": "wxE0NLeRVd59"
      },
      "execution_count": null,
      "outputs": []
    },
    {
      "cell_type": "code",
      "source": [
        "# Step 3: Print model summary\n",
        "model_1.summary()"
      ],
      "metadata": {
        "colab": {
          "base_uri": "https://localhost:8080/"
        },
        "id": "xOYDv9XGWSMM",
        "outputId": "11ece485-4bc2-48d3-cb47-0ef8d2981cb6"
      },
      "execution_count": null,
      "outputs": [
        {
          "output_type": "stream",
          "name": "stdout",
          "text": [
            "Model: \"sequential\"\n",
            "_________________________________________________________________\n",
            " Layer (type)                Output Shape              Param #   \n",
            "=================================================================\n",
            " dense (Dense)               (None, 64)                65600     \n",
            "                                                                 \n",
            " dense_1 (Dense)             (None, 32)                2080      \n",
            "                                                                 \n",
            " dense_2 (Dense)             (None, 10)                330       \n",
            "                                                                 \n",
            "=================================================================\n",
            "Total params: 68010 (265.66 KB)\n",
            "Trainable params: 68010 (265.66 KB)\n",
            "Non-trainable params: 0 (0.00 Byte)\n",
            "_________________________________________________________________\n"
          ]
        }
      ]
    },
    {
      "cell_type": "code",
      "source": [
        "# Step 4: Fit the model\n",
        "history_model_1 = model_1.fit(x = X_train,              # define input data as 'X_train' (features)\n",
        "                              y = y_train,              # define target data as 'y_train' (labels)\n",
        "                              batch_size = 128,         # define batch size as 20 (number of samples in a mini training batch)\n",
        "                              epochs = 20,              # define epochs (number of times data is passed through the network)\n",
        "                              verbose = 1,              # define verbosity mode as progress bar\n",
        "                              validation_split = 0.2)   # define fraction of training data used as validation data"
      ],
      "metadata": {
        "colab": {
          "base_uri": "https://localhost:8080/"
        },
        "id": "Izt8tH1jW06T",
        "outputId": "90b13730-14ea-4618-f0ee-bdf93b7fcabb"
      },
      "execution_count": null,
      "outputs": [
        {
          "output_type": "stream",
          "name": "stdout",
          "text": [
            "Epoch 1/20\n",
            "263/263 [==============================] - 2s 5ms/step - loss: 2.2957 - accuracy: 0.1187 - val_loss: 2.2498 - val_accuracy: 0.1676\n",
            "Epoch 2/20\n",
            "263/263 [==============================] - 1s 5ms/step - loss: 2.0408 - accuracy: 0.2623 - val_loss: 1.8041 - val_accuracy: 0.4023\n",
            "Epoch 3/20\n",
            "263/263 [==============================] - 1s 5ms/step - loss: 1.6728 - accuracy: 0.4383 - val_loss: 1.5276 - val_accuracy: 0.5083\n",
            "Epoch 4/20\n",
            "263/263 [==============================] - 2s 6ms/step - loss: 1.4648 - accuracy: 0.5293 - val_loss: 1.3964 - val_accuracy: 0.5504\n",
            "Epoch 5/20\n",
            "263/263 [==============================] - 2s 8ms/step - loss: 1.3609 - accuracy: 0.5652 - val_loss: 1.3193 - val_accuracy: 0.5852\n",
            "Epoch 6/20\n",
            "263/263 [==============================] - 2s 8ms/step - loss: 1.2942 - accuracy: 0.5912 - val_loss: 1.2650 - val_accuracy: 0.6026\n",
            "Epoch 7/20\n",
            "263/263 [==============================] - 1s 5ms/step - loss: 1.2592 - accuracy: 0.6014 - val_loss: 1.2528 - val_accuracy: 0.6005\n",
            "Epoch 8/20\n",
            "263/263 [==============================] - 1s 5ms/step - loss: 1.2253 - accuracy: 0.6149 - val_loss: 1.2100 - val_accuracy: 0.6179\n",
            "Epoch 9/20\n",
            "263/263 [==============================] - 1s 5ms/step - loss: 1.1982 - accuracy: 0.6220 - val_loss: 1.1865 - val_accuracy: 0.6295\n",
            "Epoch 10/20\n",
            "263/263 [==============================] - 1s 5ms/step - loss: 1.1746 - accuracy: 0.6323 - val_loss: 1.1638 - val_accuracy: 0.6393\n",
            "Epoch 11/20\n",
            "263/263 [==============================] - 1s 5ms/step - loss: 1.1510 - accuracy: 0.6417 - val_loss: 1.1712 - val_accuracy: 0.6350\n",
            "Epoch 12/20\n",
            "263/263 [==============================] - 1s 5ms/step - loss: 1.1380 - accuracy: 0.6496 - val_loss: 1.1354 - val_accuracy: 0.6480\n",
            "Epoch 13/20\n",
            "263/263 [==============================] - 1s 5ms/step - loss: 1.1228 - accuracy: 0.6539 - val_loss: 1.1888 - val_accuracy: 0.6330\n",
            "Epoch 14/20\n",
            "263/263 [==============================] - 2s 6ms/step - loss: 1.1095 - accuracy: 0.6591 - val_loss: 1.0993 - val_accuracy: 0.6651\n",
            "Epoch 15/20\n",
            "263/263 [==============================] - 2s 8ms/step - loss: 1.0935 - accuracy: 0.6630 - val_loss: 1.1187 - val_accuracy: 0.6533\n",
            "Epoch 16/20\n",
            "263/263 [==============================] - 2s 8ms/step - loss: 1.0828 - accuracy: 0.6683 - val_loss: 1.0955 - val_accuracy: 0.6677\n",
            "Epoch 17/20\n",
            "263/263 [==============================] - 1s 5ms/step - loss: 1.0703 - accuracy: 0.6724 - val_loss: 1.0651 - val_accuracy: 0.6765\n",
            "Epoch 18/20\n",
            "263/263 [==============================] - 1s 5ms/step - loss: 1.0561 - accuracy: 0.6789 - val_loss: 1.0803 - val_accuracy: 0.6743\n",
            "Epoch 19/20\n",
            "263/263 [==============================] - 1s 5ms/step - loss: 1.0466 - accuracy: 0.6811 - val_loss: 1.0538 - val_accuracy: 0.6821\n",
            "Epoch 20/20\n",
            "263/263 [==============================] - 1s 5ms/step - loss: 1.0364 - accuracy: 0.6842 - val_loss: 1.0641 - val_accuracy: 0.6726\n"
          ]
        }
      ]
    },
    {
      "cell_type": "markdown",
      "metadata": {
        "id": "MeF8XSWz0XIU"
      },
      "source": [
        "#### **Plot accuracy metrics**"
      ]
    },
    {
      "cell_type": "code",
      "execution_count": null,
      "metadata": {
        "id": "lt77zgGMP4yw",
        "colab": {
          "base_uri": "https://localhost:8080/",
          "height": 696
        },
        "outputId": "1e41ef44-5392-4313-8d95-7e331b97a947"
      },
      "outputs": [
        {
          "output_type": "display_data",
          "data": {
            "text/plain": [
              "<Figure size 800x800 with 1 Axes>"
            ],
            "image/png": "[encoded data removed]"
          },
          "metadata": {}
        }
      ],
      "source": [
        "# create dictionary of data from 'history_model_1' variable\n",
        "dict_hist = history_model_1.history\n",
        "\n",
        "# create list of epochs\n",
        "epoch_list = [i for i in range(1, 21)]    # use for loop to generate list of number 1-20\n",
        "\n",
        "# create plot figure\n",
        "plt.figure(figsize = (8,8))   # define figure size\n",
        "\n",
        "plt.plot(epoch_list,              # define plot feature with x-axis as 'epoch_list'\n",
        "         dict_hist['accuracy'],   # define y-axis as values from 'accuracy' key in dict_hist\n",
        "         ls = '--',               # format line style as dashed\n",
        "         label = 'accuracy')      # define plot feature label\n",
        "\n",
        "plt.plot(epoch_list,                 # define x-axis as 'epoch_list'\n",
        "          dict_hist['val_accuracy'],  # define y-axis as values from 'val_accuracy' key in dict_hist\n",
        "          ls = '--',                  # format line style as dashed\n",
        "          label = 'val_accuracy')     # define feature label\n",
        "\n",
        "plt.xlabel('Epochs')    # format x-axis plot label\n",
        "plt.ylabel('Accuracy')  # format y-axis plot label\n",
        "\n",
        "plt.legend()    # add plot feature legend\n",
        "plt.show()      # show plot in notebook\n"
      ]
    },
    {
      "cell_type": "markdown",
      "source": [
        "###**ANN Model 2 - Sequential class, 8 layers**"
      ],
      "metadata": {
        "id": "CQItNx2TL-t8"
      }
    },
    {
      "cell_type": "markdown",
      "metadata": {
        "id": "z0qgLMBZm5-K"
      },
      "source": [
        "####**Clear backend and set seed**"
      ]
    },
    {
      "cell_type": "code",
      "execution_count": null,
      "metadata": {
        "id": "I_ih3wEU9wIk"
      },
      "outputs": [],
      "source": [
        "# clear backend to free up resources and ensure that new model starts 'fresh' without interference from previous model\n",
        "from tensorflow.keras import backend    # code to import backend package\n",
        "backend.clear_session()                 # code to clear session info to free up memory/resources"
      ]
    },
    {
      "cell_type": "code",
      "source": [
        "# fix seed again for random number generator using previous seed number\n",
        "tf.random.set_seed(12)"
      ],
      "metadata": {
        "id": "kYrXRys2gf7X"
      },
      "execution_count": null,
      "outputs": []
    },
    {
      "cell_type": "markdown",
      "metadata": {
        "id": "lT6o3TIKuCtk"
      },
      "source": [
        "#### **Model Architecture**\n",
        "Define ANN model function with **Sequential class** and the following architecture:\n",
        " - First hidden layer with **256 nodes** and the **relu activation** and the **input shape = (1024, )**\n",
        " - Second hidden layer with **128 nodes** and the **relu activation**\n",
        " - Add **Dropout layer** with the rate equal to **0.2**\n",
        " - Third hidden layer with **64 nodes** and the **relu activation**\n",
        " - Fourth hidden layer with **64 nodes** and the **relu activation**\n",
        " - Fifth hidden layer with **32 nodes** and the **relu activation**\n",
        " - Add **BatchNormalization layer**\n",
        " - Output layer with **softmax activation** and **10 nodes**\n",
        "\n",
        " <br>\n",
        "\n",
        "Compile the model using:\n",
        "* loss function as **categorical_crossentropy**\n",
        "* optimizer equal to **Adam(learning_rate = 0.0005)**\n",
        "* metric equal to **'accuracy'**.\n",
        "\n",
        "<br>\n",
        "\n",
        "Fit model on the training data set using:\n",
        "* validation split of **0.2**\n",
        "* batch size = **128**\n",
        "* verbose = **1**\n",
        "* epochs = **30**"
      ]
    },
    {
      "cell_type": "markdown",
      "metadata": {
        "id": "f-ZjNBmH0XIV"
      },
      "source": [
        "#### **Build and train ANN Model 2**"
      ]
    },
    {
      "cell_type": "code",
      "execution_count": null,
      "metadata": {
        "id": "EEPYLFIPnSDP"
      },
      "outputs": [],
      "source": [
        "# Step 1: define model function with given architecture for 2nd model\n",
        "def nn_model_2():           # create 'nn_model_2' function variable\n",
        "    model = Sequential()    # define model as Sequential type\n",
        "\n",
        "    # build model layers as defined above\n",
        "    model.add(Dense(256, activation = 'relu', input_shape = (1024,)))     # same as 1st model, except now have 256 output nodes instead of 64\n",
        "    model.add(Dense(128, activation = 'relu'))                            # second Dense layer with 128 output nodes\n",
        "    model.add(Dropout(rate = 0.2))              # add Dropout type layer with rate = 0.2 to random remove outputs (20% will be randomly set to zero)\n",
        "    model.add(Dense(64, activation = 'relu'))         # third Dense layer with 64 output nodes\n",
        "    model.add(Dense(64, activation = 'relu'))         # fourth Dense layer with 64 output nodes (back to back Dense layers with same number of output nodes can make the model more stable)\n",
        "    model.add(Dense(32, activation = 'relu'))         # fifth Dense layer with 32 output nodes\n",
        "    model.add(BatchNormalization())             # add BatchNormalization layer to improve model stability and reduce model training time\n",
        "    model.add(Dense(10, activation = 'softmax'))      # final output layer with 10 classifications and values converted to probability\n",
        "\n",
        "    # compile model\n",
        "    model.compile(optimizer = tf.keras.optimizers.Adam(learning_rate = 0.0005),     # update Adam learning rate to 0.0005 instead of 0.001\n",
        "                  loss = 'categorical_crossentropy',\n",
        "                  metrics = ['accuracy'])\n",
        "    return model"
      ]
    },
    {
      "cell_type": "code",
      "source": [
        "# Step 2: build the model\n",
        "model_2 = nn_model_2()"
      ],
      "metadata": {
        "id": "JxybaFgCktyu"
      },
      "execution_count": null,
      "outputs": []
    },
    {
      "cell_type": "code",
      "source": [
        "# Step 3: Print model summary\n",
        "model_2.summary()"
      ],
      "metadata": {
        "colab": {
          "base_uri": "https://localhost:8080/"
        },
        "id": "u8BWXetgk2j5",
        "outputId": "5b3a572e-665d-47e7-cace-99090be3fed6"
      },
      "execution_count": null,
      "outputs": [
        {
          "output_type": "stream",
          "name": "stdout",
          "text": [
            "Model: \"sequential\"\n",
            "_________________________________________________________________\n",
            " Layer (type)                Output Shape              Param #   \n",
            "=================================================================\n",
            " dense (Dense)               (None, 256)               262400    \n",
            "                                                                 \n",
            " dense_1 (Dense)             (None, 128)               32896     \n",
            "                                                                 \n",
            " dropout (Dropout)           (None, 128)               0         \n",
            "                                                                 \n",
            " dense_2 (Dense)             (None, 64)                8256      \n",
            "                                                                 \n",
            " dense_3 (Dense)             (None, 64)                4160      \n",
            "                                                                 \n",
            " dense_4 (Dense)             (None, 32)                2080      \n",
            "                                                                 \n",
            " batch_normalization (Batch  (None, 32)                128       \n",
            " Normalization)                                                  \n",
            "                                                                 \n",
            " dense_5 (Dense)             (None, 10)                330       \n",
            "                                                                 \n",
            "=================================================================\n",
            "Total params: 310250 (1.18 MB)\n",
            "Trainable params: 310186 (1.18 MB)\n",
            "Non-trainable params: 64 (256.00 Byte)\n",
            "_________________________________________________________________\n"
          ]
        }
      ]
    },
    {
      "cell_type": "code",
      "source": [
        "# Step 4: Fit the model\n",
        "history_model_2 = model_2.fit(x = X_train,            # define 'feature' dataset\n",
        "                              y = y_train,            # define 'label' dataset\n",
        "                              batch_size = 128,       # define batch size\n",
        "                              epochs = 30,            # update number of epochs to 30\n",
        "                              verbose = 1,            # define verbosity as progress bar\n",
        "                              validation_split = 0.2) # keep 20% validation split"
      ],
      "metadata": {
        "colab": {
          "base_uri": "https://localhost:8080/"
        },
        "id": "rl4JXhHLlBE1",
        "outputId": "e17ca4b3-0aff-49bc-e02b-87de9d579074"
      },
      "execution_count": null,
      "outputs": [
        {
          "output_type": "stream",
          "name": "stdout",
          "text": [
            "Epoch 1/30\n",
            "263/263 [==============================] - 5s 12ms/step - loss: 2.3373 - accuracy: 0.1070 - val_loss: 2.3030 - val_accuracy: 0.1206\n",
            "Epoch 2/30\n",
            "263/263 [==============================] - 3s 11ms/step - loss: 2.2588 - accuracy: 0.1401 - val_loss: 2.1751 - val_accuracy: 0.1698\n",
            "Epoch 3/30\n",
            "263/263 [==============================] - 3s 11ms/step - loss: 1.9491 - accuracy: 0.2731 - val_loss: 1.7230 - val_accuracy: 0.3799\n",
            "Epoch 4/30\n",
            "263/263 [==============================] - 4s 16ms/step - loss: 1.5342 - accuracy: 0.4681 - val_loss: 1.5019 - val_accuracy: 0.4719\n",
            "Epoch 5/30\n",
            "263/263 [==============================] - 3s 13ms/step - loss: 1.3451 - accuracy: 0.5443 - val_loss: 1.2360 - val_accuracy: 0.5886\n",
            "Epoch 6/30\n",
            "263/263 [==============================] - 3s 11ms/step - loss: 1.2314 - accuracy: 0.5920 - val_loss: 1.1518 - val_accuracy: 0.6276\n",
            "Epoch 7/30\n",
            "263/263 [==============================] - 3s 11ms/step - loss: 1.1699 - accuracy: 0.6145 - val_loss: 1.1402 - val_accuracy: 0.6281\n",
            "Epoch 8/30\n",
            "263/263 [==============================] - 3s 13ms/step - loss: 1.1024 - accuracy: 0.6437 - val_loss: 1.0598 - val_accuracy: 0.6551\n",
            "Epoch 9/30\n",
            "263/263 [==============================] - 4s 16ms/step - loss: 1.0473 - accuracy: 0.6624 - val_loss: 1.0185 - val_accuracy: 0.6736\n",
            "Epoch 10/30\n",
            "263/263 [==============================] - 3s 11ms/step - loss: 1.0063 - accuracy: 0.6796 - val_loss: 0.9837 - val_accuracy: 0.6781\n",
            "Epoch 11/30\n",
            "263/263 [==============================] - 3s 11ms/step - loss: 0.9761 - accuracy: 0.6896 - val_loss: 0.9402 - val_accuracy: 0.6998\n",
            "Epoch 12/30\n",
            "263/263 [==============================] - 3s 11ms/step - loss: 0.9447 - accuracy: 0.7018 - val_loss: 0.9425 - val_accuracy: 0.7043\n",
            "Epoch 13/30\n",
            "263/263 [==============================] - 4s 15ms/step - loss: 0.9222 - accuracy: 0.7078 - val_loss: 0.8883 - val_accuracy: 0.7192\n",
            "Epoch 14/30\n",
            "263/263 [==============================] - 4s 14ms/step - loss: 0.9138 - accuracy: 0.7086 - val_loss: 0.9094 - val_accuracy: 0.7187\n",
            "Epoch 15/30\n",
            "263/263 [==============================] - 3s 11ms/step - loss: 0.8921 - accuracy: 0.7176 - val_loss: 0.8460 - val_accuracy: 0.7401\n",
            "Epoch 16/30\n",
            "263/263 [==============================] - 3s 11ms/step - loss: 0.8654 - accuracy: 0.7254 - val_loss: 0.8856 - val_accuracy: 0.7244\n",
            "Epoch 17/30\n",
            "263/263 [==============================] - 3s 13ms/step - loss: 0.8540 - accuracy: 0.7296 - val_loss: 0.8543 - val_accuracy: 0.7298\n",
            "Epoch 18/30\n",
            "263/263 [==============================] - 4s 16ms/step - loss: 0.8318 - accuracy: 0.7349 - val_loss: 0.8450 - val_accuracy: 0.7344\n",
            "Epoch 19/30\n",
            "263/263 [==============================] - 3s 11ms/step - loss: 0.8287 - accuracy: 0.7377 - val_loss: 0.8302 - val_accuracy: 0.7423\n",
            "Epoch 20/30\n",
            "263/263 [==============================] - 3s 11ms/step - loss: 0.8093 - accuracy: 0.7412 - val_loss: 0.8087 - val_accuracy: 0.7417\n",
            "Epoch 21/30\n",
            "263/263 [==============================] - 3s 11ms/step - loss: 0.8128 - accuracy: 0.7405 - val_loss: 0.7980 - val_accuracy: 0.7542\n",
            "Epoch 22/30\n",
            "263/263 [==============================] - 4s 16ms/step - loss: 0.7962 - accuracy: 0.7497 - val_loss: 0.7866 - val_accuracy: 0.7527\n",
            "Epoch 23/30\n",
            "263/263 [==============================] - 3s 13ms/step - loss: 0.7799 - accuracy: 0.7530 - val_loss: 0.7957 - val_accuracy: 0.7543\n",
            "Epoch 24/30\n",
            "263/263 [==============================] - 3s 11ms/step - loss: 0.7667 - accuracy: 0.7580 - val_loss: 0.7867 - val_accuracy: 0.7557\n",
            "Epoch 25/30\n",
            "263/263 [==============================] - 3s 11ms/step - loss: 0.7717 - accuracy: 0.7538 - val_loss: 0.8487 - val_accuracy: 0.7339\n",
            "Epoch 26/30\n",
            "263/263 [==============================] - 4s 14ms/step - loss: 0.7611 - accuracy: 0.7579 - val_loss: 0.7984 - val_accuracy: 0.7540\n",
            "Epoch 27/30\n",
            "263/263 [==============================] - 4s 15ms/step - loss: 0.7518 - accuracy: 0.7592 - val_loss: 0.7542 - val_accuracy: 0.7670\n",
            "Epoch 28/30\n",
            "263/263 [==============================] - 3s 11ms/step - loss: 0.7425 - accuracy: 0.7628 - val_loss: 0.7983 - val_accuracy: 0.7532\n",
            "Epoch 29/30\n",
            "263/263 [==============================] - 3s 11ms/step - loss: 0.7302 - accuracy: 0.7675 - val_loss: 0.7844 - val_accuracy: 0.7546\n",
            "Epoch 30/30\n",
            "263/263 [==============================] - 3s 11ms/step - loss: 0.7410 - accuracy: 0.7626 - val_loss: 0.7613 - val_accuracy: 0.7694\n"
          ]
        }
      ]
    },
    {
      "cell_type": "markdown",
      "metadata": {
        "id": "ZJYsvjmw0XIX"
      },
      "source": [
        "#### **Plot accuracy metrics**"
      ]
    },
    {
      "cell_type": "code",
      "execution_count": null,
      "metadata": {
        "id": "01ig6BrF1KVy",
        "colab": {
          "base_uri": "https://localhost:8080/",
          "height": 699
        },
        "outputId": "1aac3354-e32d-4bdd-853c-62eba7c46e0b"
      },
      "outputs": [
        {
          "output_type": "display_data",
          "data": {
            "text/plain": [
              "<Figure size 800x800 with 1 Axes>"
            ],
            "image/png": "[encoded data removed]"
          },
          "metadata": {}
        }
      ],
      "source": [
        "# plot training and validation accuracies\n",
        "\n",
        "# create dictionary of data from 'history_model_2' variable\n",
        "dict_hist_2 = history_model_2.history\n",
        "\n",
        "# create list of epochs\n",
        "epoch_list_2 = [i for i in range(1, 31)]    # use for loop to generate list of number 1-30\n",
        "\n",
        "# create plot figure\n",
        "plt.figure(figsize = (8,8))   # define figure size\n",
        "\n",
        "plt.plot(epoch_list_2,              # define plot feature with x-axis as 'epoch_list_2'\n",
        "         dict_hist_2['accuracy'],   # define y-axis as values from 'accuracy' key in dict_hist_2\n",
        "         ls = '--',                 # format line style as dashed\n",
        "         label = 'accuracy')        # define plot feature label\n",
        "\n",
        "plt.plot(epoch_list_2,                  # define x-axis as 'epoch_list_2'\n",
        "          dict_hist_2['val_accuracy'],  # define y-axis as values from 'val_accuracy' key in dict_hist_2\n",
        "          ls = '--',                    # format line style as dashed\n",
        "          label = 'val_accuracy')       # define feature label\n",
        "\n",
        "plt.xlabel('Epochs')    # format x-axis plot label\n",
        "plt.ylabel('Accuracy')  # format y-axis plot label\n",
        "\n",
        "plt.legend()    # add plot feature legend\n",
        "plt.show()      # show plot in notebook"
      ]
    },
    {
      "cell_type": "markdown",
      "metadata": {
        "id": "pGBbQpLONX7k"
      },
      "source": [
        "###**Observations:**\n",
        "* The final accuracy of ANN Model 1 is **~68%**.\n",
        "* The final accuracy of ANN Model 2 is **~77%**, a 10% increase in accuracy from ANN Model 1.\n",
        "* ANN Model 2 surpassed the accuracy of ANN Model 1 within the first 10 epochs, suggesting that **ANN Model 2 converges quicker than ANN Model 1**."
      ]
    },
    {
      "cell_type": "markdown",
      "metadata": {
        "id": "8kuXx9Bvu00f"
      },
      "source": [
        "### **ANN Model 2 - Predictions on Test Dataset**\n",
        "\n",
        "- Make predictions on the test set using the second model.\n",
        "- Print the obtained results using the classification report and the confusion matrix.\n",
        "- Final observations on the obtained results."
      ]
    },
    {
      "cell_type": "markdown",
      "source": [
        "####**Generate test data predictions**"
      ],
      "metadata": {
        "id": "xwcRRrgOQf68"
      }
    },
    {
      "cell_type": "code",
      "execution_count": null,
      "metadata": {
        "id": "xbWMEtTj5Ad0",
        "colab": {
          "base_uri": "https://localhost:8080/"
        },
        "outputId": "1dc98e18-0d86-42a7-c5eb-a97ac1bc7f5b"
      },
      "outputs": [
        {
          "output_type": "stream",
          "name": "stdout",
          "text": [
            "563/563 [==============================] - 3s 4ms/step\n"
          ]
        }
      ],
      "source": [
        "# make predictions on test dataset using previously trained model_2\n",
        "test_pred = model_2.predict(X_test)   # generate np.array of prediction values using 'X_test' as input data into the model\n",
        "\n",
        "# use 'np.argmax()' function to return array of indicies associated with the maximum value in the original test_pred array\n",
        "# this converts the one-hot encoded vector prediction into classification category 0-9\n",
        "test_pred = np.argmax(test_pred,      # define data array\n",
        "                      axis = -1)"
      ]
    },
    {
      "cell_type": "code",
      "execution_count": null,
      "metadata": {
        "id": "NByu7uAQ8x9P"
      },
      "outputs": [],
      "source": [
        "# convert each predicted data value in 'y_test' values from one-hot encoded vector to single label for classification report and confusion matrix\n",
        "y_test = np.argmax(y_test, axis = -1)"
      ]
    },
    {
      "cell_type": "markdown",
      "metadata": {
        "id": "1_SIoopr0XIg"
      },
      "source": [
        "#### **Print classification report and confusion matrix**"
      ]
    },
    {
      "cell_type": "code",
      "execution_count": null,
      "metadata": {
        "id": "xRddeJ-3EHT1"
      },
      "outputs": [],
      "source": [
        "# import classification and confusion matrix functions from scikit-learn\n",
        "from sklearn.metrics import classification_report\n",
        "from sklearn.metrics import confusion_matrix\n",
        "\n",
        "# create classification report variable 'cr'\n",
        "cr_1 = classification_report(y_test,      # define 'true' y-values\n",
        "                           test_pred)   # define 'predicted' y-values"
      ]
    },
    {
      "cell_type": "code",
      "source": [
        "# print classification report\n",
        "print(cr_1)"
      ],
      "metadata": {
        "colab": {
          "base_uri": "https://localhost:8080/"
        },
        "id": "0cM1JTpQrrIt",
        "outputId": "1cc764fe-62d4-43ec-abcc-b1cf074588a9"
      },
      "execution_count": null,
      "outputs": [
        {
          "output_type": "stream",
          "name": "stdout",
          "text": [
            "              precision    recall  f1-score   support\n",
            "\n",
            "           0       0.76      0.83      0.79      1814\n",
            "           1       0.82      0.76      0.79      1828\n",
            "           2       0.90      0.72      0.80      1803\n",
            "           3       0.72      0.70      0.71      1719\n",
            "           4       0.80      0.81      0.81      1812\n",
            "           5       0.67      0.76      0.71      1768\n",
            "           6       0.72      0.81      0.76      1832\n",
            "           7       0.87      0.77      0.82      1808\n",
            "           8       0.72      0.70      0.71      1812\n",
            "           9       0.70      0.75      0.72      1804\n",
            "\n",
            "    accuracy                           0.76     18000\n",
            "   macro avg       0.77      0.76      0.76     18000\n",
            "weighted avg       0.77      0.76      0.76     18000\n",
            "\n"
          ]
        }
      ]
    },
    {
      "cell_type": "code",
      "source": [
        "# create confusion matrix\n",
        "cm_1 = confusion_matrix(y_test, test_pred)"
      ],
      "metadata": {
        "id": "BsDELi-wlrNA"
      },
      "execution_count": null,
      "outputs": []
    },
    {
      "cell_type": "code",
      "source": [
        "# plot heatmap\n",
        "plt.figure(figsize = (8, 5))\n",
        "sns.heatmap(cm_1,\n",
        "            annot = True,\n",
        "            fmt = '.0f',\n",
        "            cmap = 'plasma')\n",
        "plt.xlabel('Predicted')\n",
        "plt.ylabel('Actual')\n",
        "plt.show()"
      ],
      "metadata": {
        "colab": {
          "base_uri": "https://localhost:8080/",
          "height": 465
        },
        "id": "iO1HXqKVl3gH",
        "outputId": "e08baa1a-d5e9-4289-e061-74bc0d94223a"
      },
      "execution_count": null,
      "outputs": [
        {
          "output_type": "display_data",
          "data": {
            "text/plain": [
              "<Figure size 800x500 with 2 Axes>"
            ],
            "image/png": "[encoded data removed]"
          },
          "metadata": {}
        }
      ]
    },
    {
      "cell_type": "markdown",
      "metadata": {
        "id": "DjErl4GA2u9s"
      },
      "source": [
        "###**Final Observations:**\n",
        "\n",
        "**Classification Report**\n",
        "* In the Support column, it's observed that the distribution of images is relatively even among classifications, therefore **no observed bias** between performance metrics and dataset due to skewed distribution of images.\n",
        "\n",
        "* In terms of Precision (model accuracy), the number 5 has the lowest accuracy, meaning that only **~67% of the time the model predicted an 5, the image actually was an 5**.  The **number 2 had the highest precision at ~90%**; a higher precision indicates a lower number of false positive predictions by the model.  The model might have been predicting 5 when it could have been a different number due to the font or shape of number in the images.\n",
        "\n",
        "* In terms of Recall (model sensitivity), the **number 0 had the highest recall at ~83%**, and the **numbers 3 and 8 had the lowest sensitivity at ~70%**.  Comparing the precision and recall for the number 5, it's observed that when the model identified an image as the number 5, it was correct ~67% of the time, but for all the images of the number 5 in the dataset, the model correctly identified ~76% of them.  This can be interpreted as such: the** model is over-predicting the number 5** and has some **tendency to false positive identification of number 5**.\n",
        "\n",
        "* In terms of F1-score (overall model performance), **classification of number 7 had the best metrics overall at ~82%**, whereas **classification of numbers 3, 5, and 8 had the lowest performance at ~71%**.  The total accuracy of the model is ~77% for all classifications.\n",
        "\n",
        "<br>\n",
        "\n",
        "**Confusion Matrix**\n",
        "* The **most commonly missed predictions by the model were for numbers 5 and 6**.  The were mistaken for numbers 3 and 8 respectively.  This is possibly due to the curved nature of the numbers, as the bottom half of each pair is similar."
      ]
    },
    {
      "cell_type": "markdown",
      "metadata": {
        "id": "xkR4JioMsuIV"
      },
      "source": [
        "## **Convolutional Neural Network(s)**"
      ]
    },
    {
      "cell_type": "markdown",
      "metadata": {
        "id": "YN2YgkGL_6xQ"
      },
      "source": [
        "#### **Reload and Split raw dataset (Train/Test)**"
      ]
    },
    {
      "cell_type": "code",
      "execution_count": null,
      "metadata": {
        "id": "mqM204HbAjP2",
        "scrolled": true
      },
      "outputs": [],
      "source": [
        "# reload raw dataset from .h5 file\n",
        "h5f = h5py.File('/content/drive/MyDrive/ADSP_Week8_DeepLearningProject/SVHN_single_grey1.h5', 'r')\n",
        "\n",
        "# redefine train and test data from .h5 file\n",
        "X_train = h5f['X_train'][:]\n",
        "X_test = h5f['X_test'][:]\n",
        "\n",
        "y_train = h5f['y_train'][:]\n",
        "y_test = h5f['y_test'][:]\n",
        "\n",
        "# close .h5 file\n",
        "h5f.close()"
      ]
    },
    {
      "cell_type": "code",
      "execution_count": null,
      "metadata": {
        "id": "gTLJZWjPAjQB",
        "colab": {
          "base_uri": "https://localhost:8080/"
        },
        "outputId": "b4f6d905-c14b-4523-eb33-ad8e5439cdfe"
      },
      "outputs": [
        {
          "output_type": "execute_result",
          "data": {
            "text/plain": [
              "(42000, 18000)"
            ]
          },
          "metadata": {},
          "execution_count": 52
        }
      ],
      "source": [
        "# confirm number of images in train and test datasets\n",
        "len(X_train), len(X_test)"
      ]
    },
    {
      "cell_type": "markdown",
      "metadata": {
        "id": "OJndFfEVAjQG"
      },
      "source": [
        "### **Data Pre-processing**"
      ]
    },
    {
      "cell_type": "markdown",
      "source": [
        "#### **Determine shape and pixel values for image array(s)**"
      ],
      "metadata": {
        "id": "d0AFERldTE0x"
      }
    },
    {
      "cell_type": "code",
      "execution_count": null,
      "metadata": {
        "id": "W4uXqKz1AjQG",
        "colab": {
          "base_uri": "https://localhost:8080/"
        },
        "outputId": "f3d82e0d-de93-4df1-827a-b1bf01e846f5"
      },
      "outputs": [
        {
          "output_type": "stream",
          "name": "stdout",
          "text": [
            "The shape of the first image is: (32, 32)\n"
          ]
        }
      ],
      "source": [
        "# print shape of first image in training dataset\n",
        "print('The shape of the first image is:', X_train[0].shape)"
      ]
    },
    {
      "cell_type": "code",
      "source": [
        "# print the array of pixels from first image in training dataset\n",
        "print('The array of pixels in the first image is:', X_train[0])"
      ],
      "metadata": {
        "colab": {
          "base_uri": "https://localhost:8080/"
        },
        "id": "IhC8VPJC3GMa",
        "outputId": "e3a5a6d3-99e1-4ccf-c950-626d8f0559c3"
      },
      "execution_count": null,
      "outputs": [
        {
          "output_type": "stream",
          "name": "stdout",
          "text": [
            "The array of pixels in the first image is: [[ 33.0704  30.2601  26.852  ...  71.4471  58.2204  42.9939]\n",
            " [ 25.2283  25.5533  29.9765 ... 113.0209 103.3639  84.2949]\n",
            " [ 26.2775  22.6137  40.4763 ... 113.3028 121.775  115.4228]\n",
            " ...\n",
            " [ 28.5502  36.212   45.0801 ...  24.1359  25.0927  26.0603]\n",
            " [ 38.4352  26.4733  23.2717 ...  28.1094  29.4683  30.0661]\n",
            " [ 50.2984  26.0773  24.0389 ...  49.6682  50.853   53.0377]]\n"
          ]
        }
      ]
    },
    {
      "cell_type": "code",
      "source": [
        "# confirm shape of X_train dataset to find out how many 32 x 32 arrays exist in dataset\n",
        "X_train.shape"
      ],
      "metadata": {
        "colab": {
          "base_uri": "https://localhost:8080/"
        },
        "id": "YE2G3M5N4UF_",
        "outputId": "ca23c971-d8e5-4755-988c-b10d382e254f"
      },
      "execution_count": null,
      "outputs": [
        {
          "output_type": "execute_result",
          "data": {
            "text/plain": [
              "(42000, 32, 32)"
            ]
          },
          "metadata": {},
          "execution_count": 55
        }
      ]
    },
    {
      "cell_type": "markdown",
      "metadata": {
        "id": "at30iiX1__7F"
      },
      "source": [
        "####**Reshape dataset for CNN architecture (4D array)**"
      ]
    },
    {
      "cell_type": "code",
      "execution_count": null,
      "metadata": {
        "id": "D9YPwf9ysqWU"
      },
      "outputs": [],
      "source": [
        "# reshape dataset to 4D array\n",
        "X_train = X_train.reshape(X_train.shape[0],   # use 'X_train.shape[0]' to slice first element and return 42000 for batch size\n",
        "                          32,                 # image height\n",
        "                          32,                 # iamge width\n",
        "                          1)                  # channel for grayscale images\n",
        "\n",
        "X_test = X_test.reshape(X_test.shape[0], 32, 32, 1)"
      ]
    },
    {
      "cell_type": "markdown",
      "metadata": {
        "id": "ODYnoLfaAEGx"
      },
      "source": [
        "#### **Normalize pixel values for train/test data**"
      ]
    },
    {
      "cell_type": "code",
      "execution_count": null,
      "metadata": {
        "id": "eOGLAn40AjQG"
      },
      "outputs": [],
      "source": [
        "# divide datasets by 255 to normalize\n",
        "X_train = X_train / 255\n",
        "X_test = X_test / 255"
      ]
    },
    {
      "cell_type": "code",
      "execution_count": null,
      "metadata": {
        "id": "5qf8S5NQAjQG",
        "colab": {
          "base_uri": "https://localhost:8080/"
        },
        "outputId": "bd03af33-db1c-48d1-9376-96646f99e387"
      },
      "outputs": [
        {
          "output_type": "stream",
          "name": "stdout",
          "text": [
            "The shape of the training datasets are: (42000, 32, 32, 1) (42000,)\n",
            "The shape of the test datasets are: (18000, 32, 32, 1) (18000,)\n"
          ]
        }
      ],
      "source": [
        "# run print statements to confirm 4D shape of datasets\n",
        "print('The shape of the training datasets are:', X_train.shape, y_train.shape)\n",
        "print('The shape of the test datasets are:', X_test.shape, y_test.shape)"
      ]
    },
    {
      "cell_type": "markdown",
      "metadata": {
        "id": "10QaOV-xR7Jn"
      },
      "source": [
        "#### **One-hot encode categorical labels**"
      ]
    },
    {
      "cell_type": "code",
      "execution_count": null,
      "metadata": {
        "id": "3KHWFWKMAjQH",
        "colab": {
          "base_uri": "https://localhost:8080/"
        },
        "outputId": "2e1098e2-5c01-4a03-9d74-b1b89b3f79e1"
      },
      "outputs": [
        {
          "output_type": "stream",
          "name": "stdout",
          "text": [
            "[[0. 0. 1. ... 0. 0. 0.]\n",
            " [0. 0. 0. ... 0. 0. 0.]\n",
            " [0. 0. 0. ... 1. 0. 0.]\n",
            " ...\n",
            " [0. 0. 0. ... 1. 0. 0.]\n",
            " [1. 0. 0. ... 0. 0. 0.]\n",
            " [0. 0. 0. ... 0. 0. 0.]]\n"
          ]
        }
      ],
      "source": [
        "# one-hot encode y-variable data\n",
        "y_train = to_categorical(y_train)\n",
        "y_test = to_categorical(y_test)\n",
        "\n",
        "# confirm one-hot encoding:\n",
        "print(y_train)"
      ]
    },
    {
      "cell_type": "markdown",
      "metadata": {
        "id": "H-8jYVQTAjQH"
      },
      "source": [
        "###**Observations:**\n",
        "* Data preprocessing techniques are similar between ANNs and CNNs, but a key distinction is that **CNN require a 4D array input data structure.**\n"
      ]
    },
    {
      "cell_type": "markdown",
      "metadata": {
        "id": "Vjx_LI4_AjQH"
      },
      "source": [
        "### **CNN Model 1 - Sequential class, 9 layers**"
      ]
    },
    {
      "cell_type": "markdown",
      "source": [
        "####**Set seed**"
      ],
      "metadata": {
        "id": "dUCBGSu7YXQe"
      }
    },
    {
      "cell_type": "code",
      "execution_count": null,
      "metadata": {
        "id": "ZY5pyF4-KDNt"
      },
      "outputs": [],
      "source": [
        "# fix seed with same number as previous models\n",
        "tf.random.set_seed(12)"
      ]
    },
    {
      "cell_type": "markdown",
      "metadata": {
        "id": "1JUAczhzAjQH"
      },
      "source": [
        "#### **Model Architecture**\n",
        "Define CNN model function with Sequential class using the following  architecture:\n",
        " - First Convolutional layer with **16 filters** and the kernel size of **3x3**. Use the **'same'** padding and provide the **input shape = (32, 32, 1)**\n",
        " - LeakyReLU layer with the slope equal to **0.1**\n",
        " - Second Convolutional layer with **32 filters** and the kernel size of **3x3** with **'same'** padding\n",
        " - LeakyReLU layers with the slope equal to **0.1**\n",
        " - MaxPooling layer with a pool size of **2x2**\n",
        " - **Flatten** the output from the previous layer\n",
        " - Dense layer with **32 nodes**\n",
        " - LeakyReLU layer with the slope equal to **0.1**\n",
        " - Output layer with **softmax activation** and **10 nodes** (equal to the number of classifications)\n",
        "\n",
        " <br>\n",
        "\n",
        "Compile the model using:\n",
        "* loss function as **categorical_crossentropy**\n",
        "* optimizer equal to **Adam(learning_rate = 0.001)**\n",
        "* metric equal to **'accuracy'**\n",
        "\n",
        "<br>\n",
        "\n",
        "Fit the model on training data set using:\n",
        "* validation split = **0.2**\n",
        "* batch size = **32**\n",
        "* verbose = **1**\n",
        "* epochs = **20**"
      ]
    },
    {
      "cell_type": "markdown",
      "source": [
        "####**Import CNN-specific libraries**"
      ],
      "metadata": {
        "id": "HOYaPqKdagoB"
      }
    },
    {
      "cell_type": "code",
      "source": [
        "# import additional packages/libraries for CNNs layers\n",
        "from tensorflow.keras.layers import Conv2D, MaxPooling2D, Flatten, LeakyReLU"
      ],
      "metadata": {
        "id": "8WQl5WU47IOB"
      },
      "execution_count": null,
      "outputs": []
    },
    {
      "cell_type": "markdown",
      "metadata": {
        "id": "JWsAd45JKDNu"
      },
      "source": [
        "#### **Build and train CNN Model 1**"
      ]
    },
    {
      "cell_type": "code",
      "execution_count": null,
      "metadata": {
        "id": "L1jOYANWAjQH"
      },
      "outputs": [],
      "source": [
        "# Step 1: define CNN model function with given architecture\n",
        "def cnn_model_1():\n",
        "    model = Sequential()\n",
        "\n",
        "    # add model layers\n",
        "    model.add(Conv2D(filters = 16,                # add first convolution layer with 16 filters/output channels\n",
        "                     kernel_size = (3, 3),        # define size of filter receptive field\n",
        "                     padding = 'same',            # 'zero-padding' to keep spatial dimensions consistent\n",
        "                     input_shape = (32, 32, 1)))  # shape of input dataset\n",
        "\n",
        "    model.add(LeakyReLU(alpha = 0.1))             # add LeakyReLU activation layer with slope = 0.1 to allow small amount of negative values pass\n",
        "                                                  # useful to introduce non-linearity and mitigate vanishing gradient problem\n",
        "\n",
        "    model.add(Conv2D(filters = 32,                # add second convolutional layer with 32 filters\n",
        "                     kernel_size = (3, 3),\n",
        "                     padding = 'same'))\n",
        "\n",
        "    model.add(LeakyReLU(alpha = 0.1))             # add another LeakyReLU layer activation layer\n",
        "\n",
        "    model.add(MaxPooling2D(pool_size = (2, 2)))   # add max pooling layer with size 2 x 2 to downsize data and focus on most important features\n",
        "\n",
        "    model.add(Flatten())        # add Flatten layer to flatten vectors for fully connected layer types (e.g. Dense)\n",
        "\n",
        "    model.add(Dense(32))        # add Dense layer with 32 output nodes\n",
        "\n",
        "    model.add(LeakyReLU(alpha = 0.1))     # add LeakyReLU activation layer\n",
        "\n",
        "    model.add(Dense(10, activation = 'softmax'))      # add final output layer with 10 classification nodes and values converted to probability\n",
        "\n",
        "    # compile the model\n",
        "    model.compile(optimizer = tf.keras.optimizers.Adam(learning_rate = 0.001),\n",
        "                  loss = 'categorical_crossentropy',\n",
        "                  metrics = ['accuracy'])\n",
        "    return model"
      ]
    },
    {
      "cell_type": "code",
      "source": [
        "# Step 2: build the model\n",
        "cnn_model_1 = cnn_model_1()"
      ],
      "metadata": {
        "id": "0K3Z3xwDAkNO"
      },
      "execution_count": null,
      "outputs": []
    },
    {
      "cell_type": "code",
      "source": [
        "# Step 3: print the model summary\n",
        "cnn_model_1.summary()"
      ],
      "metadata": {
        "colab": {
          "base_uri": "https://localhost:8080/"
        },
        "id": "A9t5N7ZPA37B",
        "outputId": "09b39f54-0dd3-4b16-f487-78cdda8457b3"
      },
      "execution_count": null,
      "outputs": [
        {
          "output_type": "stream",
          "name": "stdout",
          "text": [
            "Model: \"sequential_3\"\n",
            "_________________________________________________________________\n",
            " Layer (type)                Output Shape              Param #   \n",
            "=================================================================\n",
            " conv2d_4 (Conv2D)           (None, 32, 32, 16)        160       \n",
            "                                                                 \n",
            " leaky_re_lu_6 (LeakyReLU)   (None, 32, 32, 16)        0         \n",
            "                                                                 \n",
            " conv2d_5 (Conv2D)           (None, 32, 32, 32)        4640      \n",
            "                                                                 \n",
            " leaky_re_lu_7 (LeakyReLU)   (None, 32, 32, 32)        0         \n",
            "                                                                 \n",
            " max_pooling2d_2 (MaxPoolin  (None, 16, 16, 32)        0         \n",
            " g2D)                                                            \n",
            "                                                                 \n",
            " flatten_2 (Flatten)         (None, 8192)              0         \n",
            "                                                                 \n",
            " dense_10 (Dense)            (None, 32)                262176    \n",
            "                                                                 \n",
            " leaky_re_lu_8 (LeakyReLU)   (None, 32)                0         \n",
            "                                                                 \n",
            " dense_11 (Dense)            (None, 10)                330       \n",
            "                                                                 \n",
            "=================================================================\n",
            "Total params: 267306 (1.02 MB)\n",
            "Trainable params: 267306 (1.02 MB)\n",
            "Non-trainable params: 0 (0.00 Byte)\n",
            "_________________________________________________________________\n"
          ]
        }
      ]
    },
    {
      "cell_type": "code",
      "source": [
        "# Step 4: Fit the model\n",
        "history_cnn_model_1 = cnn_model_1.fit(x = X_train,\n",
        "                                      y = y_train,\n",
        "                                      batch_size = 32,\n",
        "                                      epochs = 20,\n",
        "                                      verbose = 1,\n",
        "                                      validation_split = 0.2)"
      ],
      "metadata": {
        "colab": {
          "base_uri": "https://localhost:8080/"
        },
        "id": "-NZzGmnmBCjf",
        "outputId": "9fcc2c44-ac5b-44c7-9fa2-7d7bb62315db"
      },
      "execution_count": null,
      "outputs": [
        {
          "output_type": "stream",
          "name": "stdout",
          "text": [
            "Epoch 1/20\n",
            "1050/1050 [==============================] - 75s 68ms/step - loss: 1.1528 - accuracy: 0.6204 - val_loss: 0.6267 - val_accuracy: 0.8238\n",
            "Epoch 2/20\n",
            "1050/1050 [==============================] - 73s 70ms/step - loss: 0.5471 - accuracy: 0.8416 - val_loss: 0.5343 - val_accuracy: 0.8508\n",
            "Epoch 3/20\n",
            "1050/1050 [==============================] - 74s 70ms/step - loss: 0.4587 - accuracy: 0.8668 - val_loss: 0.5123 - val_accuracy: 0.8582\n",
            "Epoch 4/20\n",
            "1050/1050 [==============================] - 73s 70ms/step - loss: 0.3974 - accuracy: 0.8838 - val_loss: 0.4726 - val_accuracy: 0.8662\n",
            "Epoch 5/20\n",
            "1050/1050 [==============================] - 72s 68ms/step - loss: 0.3560 - accuracy: 0.8937 - val_loss: 0.4681 - val_accuracy: 0.8750\n",
            "Epoch 6/20\n",
            "1050/1050 [==============================] - 75s 71ms/step - loss: 0.3132 - accuracy: 0.9063 - val_loss: 0.4510 - val_accuracy: 0.8840\n",
            "Epoch 7/20\n",
            "1050/1050 [==============================] - 75s 71ms/step - loss: 0.2841 - accuracy: 0.9143 - val_loss: 0.4941 - val_accuracy: 0.8664\n",
            "Epoch 8/20\n",
            "1050/1050 [==============================] - 74s 70ms/step - loss: 0.2544 - accuracy: 0.9223 - val_loss: 0.5122 - val_accuracy: 0.8702\n",
            "Epoch 9/20\n",
            "1050/1050 [==============================] - 77s 74ms/step - loss: 0.2284 - accuracy: 0.9305 - val_loss: 0.5224 - val_accuracy: 0.8662\n",
            "Epoch 10/20\n",
            "1050/1050 [==============================] - 78s 74ms/step - loss: 0.2035 - accuracy: 0.9371 - val_loss: 0.5040 - val_accuracy: 0.8746\n",
            "Epoch 11/20\n",
            "1050/1050 [==============================] - 74s 70ms/step - loss: 0.1850 - accuracy: 0.9418 - val_loss: 0.5194 - val_accuracy: 0.8743\n",
            "Epoch 12/20\n",
            "1050/1050 [==============================] - 78s 74ms/step - loss: 0.1601 - accuracy: 0.9507 - val_loss: 0.5704 - val_accuracy: 0.8710\n",
            "Epoch 13/20\n",
            "1050/1050 [==============================] - 78s 74ms/step - loss: 0.1480 - accuracy: 0.9517 - val_loss: 0.5794 - val_accuracy: 0.8780\n",
            "Epoch 14/20\n",
            "1050/1050 [==============================] - 73s 70ms/step - loss: 0.1273 - accuracy: 0.9608 - val_loss: 0.6147 - val_accuracy: 0.8732\n",
            "Epoch 15/20\n",
            "1050/1050 [==============================] - 73s 69ms/step - loss: 0.1212 - accuracy: 0.9617 - val_loss: 0.7061 - val_accuracy: 0.8633\n",
            "Epoch 16/20\n",
            "1050/1050 [==============================] - 71s 68ms/step - loss: 0.1078 - accuracy: 0.9650 - val_loss: 0.6752 - val_accuracy: 0.8674\n",
            "Epoch 17/20\n",
            "1050/1050 [==============================] - 74s 71ms/step - loss: 0.0967 - accuracy: 0.9678 - val_loss: 0.7216 - val_accuracy: 0.8688\n",
            "Epoch 18/20\n",
            "1050/1050 [==============================] - 73s 70ms/step - loss: 0.0848 - accuracy: 0.9732 - val_loss: 0.7520 - val_accuracy: 0.8717\n",
            "Epoch 19/20\n",
            "1050/1050 [==============================] - 73s 69ms/step - loss: 0.0871 - accuracy: 0.9710 - val_loss: 0.7765 - val_accuracy: 0.8637\n",
            "Epoch 20/20\n",
            "1050/1050 [==============================] - 79s 75ms/step - loss: 0.0720 - accuracy: 0.9763 - val_loss: 0.8478 - val_accuracy: 0.8610\n"
          ]
        }
      ]
    },
    {
      "cell_type": "markdown",
      "metadata": {
        "id": "JPzfIf9kKDNw"
      },
      "source": [
        "#### **Plot accuracy metrics**"
      ]
    },
    {
      "cell_type": "code",
      "execution_count": null,
      "metadata": {
        "id": "07oUCr1kAjQH",
        "colab": {
          "base_uri": "https://localhost:8080/",
          "height": 696
        },
        "outputId": "34f2318a-a779-483b-d1a5-e9ab6aba1d2d"
      },
      "outputs": [
        {
          "output_type": "display_data",
          "data": {
            "text/plain": [
              "<Figure size 800x800 with 1 Axes>"
            ],
            "image/png": "[encoded data removed]"
          },
          "metadata": {}
        }
      ],
      "source": [
        "# plot training and validation accuracies\n",
        "dict_hist_3 = history_cnn_model_1.history     # create dictionary of values from modelhistory\n",
        "epoch_list_3 = [i for i in range (1,21)]      # create list of epochs 1-20\n",
        "\n",
        "# create plot\n",
        "plt.figure(figsize = (8, 8))    # define figure size\n",
        "plt.plot(epoch_list_3, dict_hist_3['accuracy'], ls = '--', label = 'accuracy')    # same syntax as previous plots, update feature and label parameters\n",
        "plt.plot(epoch_list_3, dict_hist_3['val_accuracy'], ls = '--', label = 'val_accuracy')\n",
        "\n",
        "plt.xlabel('Epochs')\n",
        "plt.ylabel('Accuracy')\n",
        "\n",
        "plt.legend()\n",
        "plt.show()"
      ]
    },
    {
      "cell_type": "markdown",
      "source": [
        "###**CNN Model 2 - Sequential class, 17 layers**"
      ],
      "metadata": {
        "id": "ShPocSM1bxHK"
      }
    },
    {
      "cell_type": "markdown",
      "source": [
        "####**Clear backend and set seed**"
      ],
      "metadata": {
        "id": "bVOJqLjQcBC0"
      }
    },
    {
      "cell_type": "code",
      "source": [
        "# clear backend to free up resources/memory for next model\n",
        "backend.clear_session()\n",
        "\n",
        "# fix seed\n",
        "tf.random.set_seed(12)"
      ],
      "metadata": {
        "id": "lQci1L1AIr77"
      },
      "execution_count": null,
      "outputs": []
    },
    {
      "cell_type": "markdown",
      "metadata": {
        "id": "Ep19Jd8HAjQH"
      },
      "source": [
        "####**Model Architecture**\n",
        "\n",
        "Define CNN model function with **Sequential class** using the following architecture:\n",
        " - First Convolutional layer with **16 filters** and the kernel size of **3x3**. Use the **'same'** padding and provide the **input shape = (32, 32, 1)**\n",
        " - LeakyReLU layer with the slope equal to **0.1**\n",
        " - Second Convolutional layer with **32 filters** and the kernel size of **3x3** with **'same'** padding\n",
        " - LeakyReLU with the slope equal to **0.1**\n",
        " - MaxPooling layer with a pool size of **2x2**\n",
        " - **BatchNormalization** layer\n",
        " - Third Convolutional layer with **32 filters** and the kernel size of **3x3** with **'same'** padding\n",
        " - LeakyReLU layer with the slope equal to **0.1**\n",
        " - Fourth Convolutional layer **64 filters** and the kernel size of **3x3** with **'same'** padding\n",
        " - LeakyReLU layer with the slope equal to **0.1**\n",
        " - MaxPooling layer with a pool size of **2x2**\n",
        " - **BatchNormalization** layer\n",
        " - **Flatten** the output from the previous layer\n",
        " - Dense layer with **32 nodes**\n",
        " - LeakyReLU layer with the slope equal to **0.1**\n",
        " - Dropout layer with the rate equal to **0.5**\n",
        " - Output layer with **softmax activation** and **10 nodes**\n",
        "\n",
        " <br>\n",
        "\n",
        "Compile the model using:\n",
        "* loss funcation as **categorical_crossentropy**\n",
        "* optimizer as **Adam(learning_rate = 0.001)**\n",
        "* metric equal to **'accuracy'**\n",
        "\n",
        "<br>\n",
        "\n",
        "Fit the model on training data using:\n",
        "* validation split of **0.2**\n",
        "* batch size = **128**\n",
        "* verbose = **1**\n",
        "* epochs = **30**"
      ]
    },
    {
      "cell_type": "markdown",
      "metadata": {
        "id": "y5IBLS1eKDNy"
      },
      "source": [
        "#### **Build and train CNN Model 2**"
      ]
    },
    {
      "cell_type": "code",
      "execution_count": null,
      "metadata": {
        "id": "wk9sl2UEAjQH"
      },
      "outputs": [],
      "source": [
        "# Step 1: Define model function with given architecture\n",
        "def cnn_model_2():\n",
        "    model = Sequential()\n",
        "\n",
        "    # add model layers\n",
        "    model.add(Conv2D(filters = 16, kernel_size = (3, 3), padding = 'same', input_shape = (32, 32, 1)))\n",
        "    model.add(LeakyReLU(alpha = 0.1))\n",
        "    model.add(Conv2D(filters = 32, kernel_size = (3, 3), padding = 'same'))\n",
        "    model.add(LeakyReLU(alpha = 0.1))\n",
        "    model.add(MaxPooling2D(pool_size = (2, 2)))\n",
        "    model.add(BatchNormalization())       # add new BatchNorm layer to improve model stability\n",
        "    model.add(Conv2D(filters = 32, kernel_size = (3, 3), padding = 'same'))   # add third convolutional layer\n",
        "    model.add(LeakyReLU(alpha = 0.1))\n",
        "    model.add(Conv2D(filters = 64, kernel_size = (3, 3), padding = 'same'))   # add fourth convolutional layer\n",
        "    model.add(LeakyReLU(alpha = 0.1))\n",
        "    model.add(MaxPooling2D(pool_size = (2, 2)))\n",
        "    model.add(BatchNormalization())\n",
        "    model.add(Flatten())\n",
        "    model.add(Dense(32))\n",
        "    model.add(LeakyReLU(alpha = 0.1))\n",
        "    model.add(Dropout(rate = 0.5))      # replace 50% of output with zero\n",
        "    model.add(Dense(10, activation = 'softmax'))\n",
        "\n",
        "    # compile model\n",
        "    model.compile(optimizer = Adam(learning_rate = 0.001),\n",
        "                  loss = 'categorical_crossentropy',\n",
        "                  metrics = ['accuracy'])\n",
        "    return model"
      ]
    },
    {
      "cell_type": "code",
      "source": [
        "# Step 2: Build the model\n",
        "cnn_model_2 = cnn_model_2()"
      ],
      "metadata": {
        "id": "0YvivlLFLVj_"
      },
      "execution_count": null,
      "outputs": []
    },
    {
      "cell_type": "code",
      "source": [
        "# Step 3: Print model summary\n",
        "cnn_model_2.summary()"
      ],
      "metadata": {
        "colab": {
          "base_uri": "https://localhost:8080/"
        },
        "id": "3WH2zC_OLcUI",
        "outputId": "9ec9bcc8-6912-483a-f5f1-b0d25b60e37e"
      },
      "execution_count": null,
      "outputs": [
        {
          "output_type": "stream",
          "name": "stdout",
          "text": [
            "Model: \"sequential\"\n",
            "_________________________________________________________________\n",
            " Layer (type)                Output Shape              Param #   \n",
            "=================================================================\n",
            " conv2d (Conv2D)             (None, 32, 32, 16)        160       \n",
            "                                                                 \n",
            " leaky_re_lu (LeakyReLU)     (None, 32, 32, 16)        0         \n",
            "                                                                 \n",
            " conv2d_1 (Conv2D)           (None, 32, 32, 32)        4640      \n",
            "                                                                 \n",
            " leaky_re_lu_1 (LeakyReLU)   (None, 32, 32, 32)        0         \n",
            "                                                                 \n",
            " max_pooling2d (MaxPooling2  (None, 16, 16, 32)        0         \n",
            " D)                                                              \n",
            "                                                                 \n",
            " batch_normalization (Batch  (None, 16, 16, 32)        128       \n",
            " Normalization)                                                  \n",
            "                                                                 \n",
            " conv2d_2 (Conv2D)           (None, 16, 16, 32)        9248      \n",
            "                                                                 \n",
            " leaky_re_lu_2 (LeakyReLU)   (None, 16, 16, 32)        0         \n",
            "                                                                 \n",
            " conv2d_3 (Conv2D)           (None, 16, 16, 64)        18496     \n",
            "                                                                 \n",
            " leaky_re_lu_3 (LeakyReLU)   (None, 16, 16, 64)        0         \n",
            "                                                                 \n",
            " max_pooling2d_1 (MaxPoolin  (None, 8, 8, 64)          0         \n",
            " g2D)                                                            \n",
            "                                                                 \n",
            " batch_normalization_1 (Bat  (None, 8, 8, 64)          256       \n",
            " chNormalization)                                                \n",
            "                                                                 \n",
            " flatten (Flatten)           (None, 4096)              0         \n",
            "                                                                 \n",
            " dense (Dense)               (None, 32)                131104    \n",
            "                                                                 \n",
            " leaky_re_lu_4 (LeakyReLU)   (None, 32)                0         \n",
            "                                                                 \n",
            " dropout (Dropout)           (None, 32)                0         \n",
            "                                                                 \n",
            " dense_1 (Dense)             (None, 10)                330       \n",
            "                                                                 \n",
            "=================================================================\n",
            "Total params: 164362 (642.04 KB)\n",
            "Trainable params: 164170 (641.29 KB)\n",
            "Non-trainable params: 192 (768.00 Byte)\n",
            "_________________________________________________________________\n"
          ]
        }
      ]
    },
    {
      "cell_type": "code",
      "source": [
        "# Step 4: Fit the model\n",
        "history_cnn_model_2 = cnn_model_2.fit(x = X_train,\n",
        "                                      y = y_train,\n",
        "                                      batch_size = 128,\n",
        "                                      epochs = 30,\n",
        "                                      verbose = 1,\n",
        "                                      validation_split = 0.2)"
      ],
      "metadata": {
        "colab": {
          "base_uri": "https://localhost:8080/"
        },
        "id": "0aQEm8BxLj6m",
        "outputId": "b9ad32df-8c84-41a2-bf5b-4f91ab75a42c"
      },
      "execution_count": null,
      "outputs": [
        {
          "output_type": "stream",
          "name": "stdout",
          "text": [
            "Epoch 1/30\n",
            "263/263 [==============================] - 135s 505ms/step - loss: 1.3409 - accuracy: 0.5479 - val_loss: 1.8106 - val_accuracy: 0.3340\n",
            "Epoch 2/30\n",
            "263/263 [==============================] - 120s 455ms/step - loss: 0.6541 - accuracy: 0.7977 - val_loss: 0.4865 - val_accuracy: 0.8629\n",
            "Epoch 3/30\n",
            "263/263 [==============================] - 127s 482ms/step - loss: 0.5458 - accuracy: 0.8340 - val_loss: 0.4259 - val_accuracy: 0.8798\n",
            "Epoch 4/30\n",
            "263/263 [==============================] - 124s 471ms/step - loss: 0.4841 - accuracy: 0.8514 - val_loss: 0.4025 - val_accuracy: 0.8868\n",
            "Epoch 5/30\n",
            "263/263 [==============================] - 127s 482ms/step - loss: 0.4457 - accuracy: 0.8644 - val_loss: 0.3823 - val_accuracy: 0.8952\n",
            "Epoch 6/30\n",
            "263/263 [==============================] - 128s 486ms/step - loss: 0.4033 - accuracy: 0.8766 - val_loss: 0.3928 - val_accuracy: 0.8935\n",
            "Epoch 7/30\n",
            "263/263 [==============================] - 128s 485ms/step - loss: 0.3704 - accuracy: 0.8848 - val_loss: 0.3712 - val_accuracy: 0.8976\n",
            "Epoch 8/30\n",
            "263/263 [==============================] - 128s 485ms/step - loss: 0.3553 - accuracy: 0.8925 - val_loss: 0.3359 - val_accuracy: 0.9062\n",
            "Epoch 9/30\n",
            "263/263 [==============================] - 121s 462ms/step - loss: 0.3369 - accuracy: 0.8963 - val_loss: 0.3827 - val_accuracy: 0.8890\n",
            "Epoch 10/30\n",
            "263/263 [==============================] - 124s 472ms/step - loss: 0.3137 - accuracy: 0.9017 - val_loss: 0.3600 - val_accuracy: 0.9044\n",
            "Epoch 11/30\n",
            "263/263 [==============================] - 125s 475ms/step - loss: 0.2976 - accuracy: 0.9062 - val_loss: 0.3878 - val_accuracy: 0.8970\n",
            "Epoch 12/30\n",
            "263/263 [==============================] - 124s 469ms/step - loss: 0.2763 - accuracy: 0.9120 - val_loss: 0.3698 - val_accuracy: 0.8990\n",
            "Epoch 13/30\n",
            "263/263 [==============================] - 127s 483ms/step - loss: 0.2695 - accuracy: 0.9146 - val_loss: 0.3838 - val_accuracy: 0.9039\n",
            "Epoch 14/30\n",
            "263/263 [==============================] - 123s 465ms/step - loss: 0.2572 - accuracy: 0.9186 - val_loss: 0.3712 - val_accuracy: 0.9087\n",
            "Epoch 15/30\n",
            "263/263 [==============================] - 127s 483ms/step - loss: 0.2447 - accuracy: 0.9206 - val_loss: 0.3767 - val_accuracy: 0.9052\n",
            "Epoch 16/30\n",
            "263/263 [==============================] - 130s 493ms/step - loss: 0.2321 - accuracy: 0.9264 - val_loss: 0.3677 - val_accuracy: 0.9048\n",
            "Epoch 17/30\n",
            "263/263 [==============================] - 124s 473ms/step - loss: 0.2241 - accuracy: 0.9266 - val_loss: 0.3396 - val_accuracy: 0.9131\n",
            "Epoch 18/30\n",
            "263/263 [==============================] - 127s 485ms/step - loss: 0.2246 - accuracy: 0.9273 - val_loss: 0.4010 - val_accuracy: 0.9040\n",
            "Epoch 19/30\n",
            "263/263 [==============================] - 148s 564ms/step - loss: 0.2084 - accuracy: 0.9317 - val_loss: 0.4089 - val_accuracy: 0.9050\n",
            "Epoch 20/30\n",
            "263/263 [==============================] - 166s 629ms/step - loss: 0.1991 - accuracy: 0.9351 - val_loss: 0.3966 - val_accuracy: 0.9094\n",
            "Epoch 21/30\n",
            "263/263 [==============================] - 128s 489ms/step - loss: 0.1935 - accuracy: 0.9361 - val_loss: 0.3722 - val_accuracy: 0.9138\n",
            "Epoch 22/30\n",
            "263/263 [==============================] - 121s 460ms/step - loss: 0.1893 - accuracy: 0.9370 - val_loss: 0.4308 - val_accuracy: 0.9104\n",
            "Epoch 23/30\n",
            "263/263 [==============================] - 123s 468ms/step - loss: 0.1818 - accuracy: 0.9400 - val_loss: 0.4177 - val_accuracy: 0.9089\n",
            "Epoch 24/30\n",
            "263/263 [==============================] - 121s 460ms/step - loss: 0.1775 - accuracy: 0.9413 - val_loss: 0.4852 - val_accuracy: 0.8910\n",
            "Epoch 25/30\n",
            "263/263 [==============================] - 129s 492ms/step - loss: 0.1736 - accuracy: 0.9433 - val_loss: 0.4120 - val_accuracy: 0.9007\n",
            "Epoch 26/30\n",
            "263/263 [==============================] - 122s 464ms/step - loss: 0.1713 - accuracy: 0.9446 - val_loss: 0.3992 - val_accuracy: 0.9125\n",
            "Epoch 27/30\n",
            "263/263 [==============================] - 123s 467ms/step - loss: 0.1634 - accuracy: 0.9467 - val_loss: 0.4141 - val_accuracy: 0.9151\n",
            "Epoch 28/30\n",
            "263/263 [==============================] - 124s 474ms/step - loss: 0.1563 - accuracy: 0.9475 - val_loss: 0.4061 - val_accuracy: 0.9145\n",
            "Epoch 29/30\n",
            "263/263 [==============================] - 122s 464ms/step - loss: 0.1506 - accuracy: 0.9496 - val_loss: 0.4706 - val_accuracy: 0.9133\n",
            "Epoch 30/30\n",
            "263/263 [==============================] - 124s 470ms/step - loss: 0.1578 - accuracy: 0.9474 - val_loss: 0.4113 - val_accuracy: 0.9143\n"
          ]
        }
      ]
    },
    {
      "cell_type": "markdown",
      "metadata": {
        "id": "PyhUtMy3KDN1"
      },
      "source": [
        "#### **Plot accuracy metrics**"
      ]
    },
    {
      "cell_type": "code",
      "execution_count": null,
      "metadata": {
        "id": "YVQu7uWiAjQH",
        "colab": {
          "base_uri": "https://localhost:8080/",
          "height": 696
        },
        "outputId": "bf2710ba-73b8-4676-c206-edfaaad150ca"
      },
      "outputs": [
        {
          "output_type": "display_data",
          "data": {
            "text/plain": [
              "<Figure size 800x800 with 1 Axes>"
            ],
            "image/png": "[encoded data removed]"
          },
          "metadata": {}
        }
      ],
      "source": [
        "# plot training and validation accuracies\n",
        "dict_hist_4 = history_cnn_model_2.history\n",
        "epoch_list_4 = [i for i in range(1, 31)]\n",
        "\n",
        "# create plot\n",
        "plt.figure(figsize = (8, 8))\n",
        "plt.plot(epoch_list_4, dict_hist_4['accuracy'], ls = '--', label = 'accuracy')\n",
        "plt.plot(epoch_list_4, dict_hist_4['val_accuracy'], ls = '--', label = 'accuracy')\n",
        "plt.xlabel('Epoch')\n",
        "plt.ylabel('Accuracy')\n",
        "plt.legend()\n",
        "plt.show()"
      ]
    },
    {
      "cell_type": "markdown",
      "metadata": {
        "id": "Qrrt0Ac3AjQH"
      },
      "source": [
        "###**Observations:**\n",
        "* The accuracy of CNN Model 1 is **~98% for training data**, but the **validation accuracy is ~86%**.  The plateau observed in the accuracy plot suggests that CNN Model 1 has overfit the training data.\n",
        "* **CNN Model 1 exhibits specialized performance** to the training data set, CNN Model 2 is designed to have improved generalized performance to prevent overfitting.\n",
        "* CNN Model 2 has a validation accuracy that is lower than the training accuracy (91% vs 94%), and validation accuracy is still observed to plateau, suggesting that **overfitting still occurs in CNN Model 2**.\n",
        "* Compared with CNN MOdel 1 performance, CNN Model 2 is observed to have **increased stability** and is **less likely to experience bias from overfitting**."
      ]
    },
    {
      "cell_type": "markdown",
      "metadata": {
        "id": "kja4SnOdAjQI"
      },
      "source": [
        "### **CNN Model 2 - Predictions on Test Dataset**\n",
        "\n",
        "- Make predictions on the test set using the second model.\n",
        "- Print the obtained results using the classification report and the confusion matrix.\n",
        "- Final observations on the obtained results."
      ]
    },
    {
      "cell_type": "markdown",
      "metadata": {
        "id": "eHCRwRbgKDN2"
      },
      "source": [
        "#### **Generate test data predictions**"
      ]
    },
    {
      "cell_type": "code",
      "execution_count": null,
      "metadata": {
        "id": "f1d-VvaLAjQI",
        "colab": {
          "base_uri": "https://localhost:8080/"
        },
        "outputId": "ac13830a-3411-49f3-8af5-dcdca4b0412f"
      },
      "outputs": [
        {
          "output_type": "stream",
          "name": "stdout",
          "text": [
            "563/563 [==============================] - 20s 35ms/step\n"
          ]
        }
      ],
      "source": [
        "# make predictions on test dataset using previously trained cnn_model_2\n",
        "test_pred = cnn_model_2.predict(X_test)   # generate np.array of prediction values using 'X_test' as input data into the model\n",
        "\n",
        "# use 'np.argmax()' function to return array of indicies associated with the maximum value in the original test_pred array\n",
        "# this converts the one-hot encoded vector prediction into classification category 0-9\n",
        "test_pred = np.argmax(test_pred,      # define data array\n",
        "                      axis = -1)"
      ]
    },
    {
      "cell_type": "code",
      "execution_count": null,
      "metadata": {
        "id": "dUSHU9W0AjQI"
      },
      "outputs": [],
      "source": [
        "# convert each data value in 'y_test' values from one-hot encoded vector to single label for classification report and confusion matrix\n",
        "y_test = np.argmax(y_test, axis = -1)"
      ]
    },
    {
      "cell_type": "markdown",
      "metadata": {
        "id": "aVCa-ysWKDN3"
      },
      "source": [
        "#### **Print classification report and confusion matrix**"
      ]
    },
    {
      "cell_type": "code",
      "execution_count": null,
      "metadata": {
        "id": "sOMq2rCJAjQJ",
        "colab": {
          "base_uri": "https://localhost:8080/"
        },
        "outputId": "d4a2953b-5384-462d-e3c0-1ece06be4ee9"
      },
      "outputs": [
        {
          "output_type": "stream",
          "name": "stdout",
          "text": [
            "              precision    recall  f1-score   support\n",
            "\n",
            "           0       0.93      0.93      0.93      1814\n",
            "           1       0.91      0.91      0.91      1828\n",
            "           2       0.94      0.90      0.92      1803\n",
            "           3       0.87      0.89      0.88      1719\n",
            "           4       0.91      0.93      0.92      1812\n",
            "           5       0.87      0.93      0.90      1768\n",
            "           6       0.93      0.90      0.91      1832\n",
            "           7       0.89      0.94      0.92      1808\n",
            "           8       0.93      0.90      0.91      1812\n",
            "           9       0.94      0.88      0.91      1804\n",
            "\n",
            "    accuracy                           0.91     18000\n",
            "   macro avg       0.91      0.91      0.91     18000\n",
            "weighted avg       0.91      0.91      0.91     18000\n",
            "\n"
          ]
        }
      ],
      "source": [
        "# use previously imported functions to create classification report and confusion matrix\n",
        "\n",
        "# create classification report\n",
        "cr_2 = classification_report(y_test, test_pred)\n",
        "print(cr_2)"
      ]
    },
    {
      "cell_type": "code",
      "source": [
        "# create confusion matrix\n",
        "cm_2 = confusion_matrix(y_test, test_pred)\n",
        "\n",
        "# plot confusion matrix via heatmap\n",
        "plt.figure(figsize = (8, 5))\n",
        "sns.heatmap(cm_2,               # define data input\n",
        "            annot = True,       # add number labels to heatmap\n",
        "            fmt = '.0f',        # format labels to float type with zero decimals\n",
        "            cmap = 'plasma')    # formal heatmap color scheme\n",
        "\n",
        "plt.xlabel('Predicted')\n",
        "plt.ylabel('Actual')\n",
        "plt.show()"
      ],
      "metadata": {
        "colab": {
          "base_uri": "https://localhost:8080/",
          "height": 465
        },
        "id": "_dKA04H4dHi7",
        "outputId": "08eeee88-2d8f-4354-ad87-d695197d2dd1"
      },
      "execution_count": null,
      "outputs": [
        {
          "output_type": "display_data",
          "data": {
            "text/plain": [
              "<Figure size 800x500 with 2 Axes>"
            ],
            "image/png": "[encoded data removed]"
          },
          "metadata": {}
        }
      ]
    },
    {
      "cell_type": "markdown",
      "metadata": {
        "id": "TNN9v713AjQJ"
      },
      "source": [
        "###**Final Observations:**\n",
        "\n",
        "**Classification Report**\n",
        "* The accuracy and sensitivity of CNN Model 2 is significantly higher compared to CNN Model 1 and both ANN Models.\n",
        "* The lowest precision score was for numbers 3 and 5 at ~87% and the lowest recall was for number 9 at 88%.  These number are much higher than the precision and recall observed in the ANN model.\n",
        "* The **F1-score for CNN Model 2 is 91%**, almost 15% higher than ANN Model 2.\n",
        "\n",
        "<br>\n",
        "\n",
        "**Confusion Matrix**\n",
        "* The two **most commonly mispredicted numbers** in CNN Model 2 were still **5 and 3**, but the total number of mispredictions was 76, much lower than the 224 mispredictions from the ANN Model 2.\n"
      ]
    }
  ],
  "metadata": {
    "accelerator": "TPU",
    "colab": {
      "provenance": []
    },
    "kernelspec": {
      "display_name": "Python 3 (ipykernel)",
      "language": "python",
      "name": "python3"
    },
    "language_info": {
      "codemirror_mode": {
        "name": "ipython",
        "version": 3
      },
      "file_extension": ".py",
      "mimetype": "text/x-python",
      "name": "python",
      "nbconvert_exporter": "python",
      "pygments_lexer": "ipython3",
      "version": "3.9.7"
    }
  },
  "nbformat": 4,
  "nbformat_minor": 0
}